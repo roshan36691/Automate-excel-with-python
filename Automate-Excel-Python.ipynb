{
 "cells": [
  {
   "cell_type": "markdown",
   "metadata": {},
   "source": [
    "#  How to automate Excel using Python"
   ]
  },
  {
   "cell_type": "markdown",
   "metadata": {},
   "source": [
    "***"
   ]
  },
  {
   "cell_type": "markdown",
   "metadata": {
    "heading_collapsed": true
   },
   "source": [
    "# 0. Install Dependencies"
   ]
  },
  {
   "cell_type": "code",
   "execution_count": null,
   "metadata": {
    "hidden": true
   },
   "outputs": [],
   "source": [
    "!pip install pandas \n",
    "!pip install openpyxl --quiet\n",
    "!pip install plotly-express --quiet\n",
    "!pip install xlwings --quiet"
   ]
  },
  {
   "cell_type": "markdown",
   "metadata": {},
   "source": [
    "# 1. Merge Excel Files (Simple)"
   ]
  },
  {
   "cell_type": "markdown",
   "metadata": {},
   "source": [
    "### Merge multiple Excel files, perform calculations & export an interactive chart"
   ]
  },
  {
   "cell_type": "code",
   "execution_count": null,
   "metadata": {},
   "outputs": [],
   "source": [
    "from pathlib import Path\n",
    "import pandas as pd  # pip install pandas\n",
    "import plotly.express as px  # pip install plotly-express"
   ]
  },
  {
   "cell_type": "code",
   "execution_count": null,
   "metadata": {},
   "outputs": [],
   "source": [
    "# Locate examples files\n",
    "INPUT_DIR = Path.cwd() / \"1-Merge-Excel-Files-Simple\" / \"INPUT\"\n",
    "OUTPUT_DIR = Path.cwd() / \"1-Merge-Excel-Files-Simple\""
   ]
  },
  {
   "cell_type": "code",
   "execution_count": null,
   "metadata": {},
   "outputs": [],
   "source": [
    "# Create empty dataframe, iterate over input directory, append all excel files to empty dataframe\n",
    "df = pd.DataFrame()\n",
    "\n",
    "# If you want to iterate over all folders including subfolders, use: \n",
    "# for file in INPUT_DIR.rglob(\"*\"):\n",
    "\n",
    "for file in INPUT_DIR.iterdir():\n",
    "    if file.suffix == \".xlsx\":\n",
    "        df_tmp = pd.read_excel(file)\n",
    "        df = pd.concat([df, df_tmp], ignore_index=True)\n",
    "\n",
    "df['Country'].unique()"
   ]
  },
  {
   "cell_type": "markdown",
   "metadata": {},
   "source": [
    "**Please note**<br>\n",
    "With pandas version 1.4.0 DataFrame.append() and Series.append() have been deprecated and will be removed in a future version.<br>\n",
    "Hence, I have changed the code as follows to merge all Excel files into one DataFrame:\n",
    "```diff\n",
    "- df = df.append(pd.read_excel(file), ignore_index=True)\n",
    "\n",
    "+ df_tmp = pd.read_excel(file)\n",
    "+ df = pd.concat([df, df_tmp], ignore_index=True)\n",
    "```"
   ]
  },
  {
   "cell_type": "code",
   "execution_count": null,
   "metadata": {},
   "outputs": [],
   "source": [
    "df.head()"
   ]
  },
  {
   "cell_type": "code",
   "execution_count": null,
   "metadata": {},
   "outputs": [],
   "source": [
    "df = df.groupby(by=\"Country\").sum()[[\" Sales\", \"Profit\"]]\n",
    "df"
   ]
  },
  {
   "cell_type": "code",
   "execution_count": null,
   "metadata": {},
   "outputs": [],
   "source": [
    "df[\"Profit Margin %\"] = (df[\"Profit\"] / df[\" Sales\"]) * 100\n",
    "df"
   ]
  },
  {
   "cell_type": "code",
   "execution_count": null,
   "metadata": {},
   "outputs": [],
   "source": [
    "# Plot Profit situation & export grouped dataframe to Excel\n",
    "fig = px.bar(\n",
    "    df,\n",
    "    x=df.index,\n",
    "    y=\" Sales\",\n",
    "    color=\"Profit Margin %\",\n",
    "    color_continuous_scale=[\"red\", \"yellow\", \"green\"],\n",
    "    template=\"plotly_white\",\n",
    "    title=\"<b>Profit Analysis</b>\",\n",
    ")\n",
    "fig.write_html(str(OUTPUT_DIR / \"profit_analysis.html\"))\n",
    "df.to_excel(OUTPUT_DIR / \"summary.xlsx\")\n",
    "fig"
   ]
  },
  {
   "cell_type": "markdown",
   "metadata": {
    "heading_collapsed": true
   },
   "source": [
    "### Remarks:"
   ]
  },
  {
   "cell_type": "markdown",
   "metadata": {
    "hidden": true
   },
   "source": [
    "- Making use of the different plotting libraries, e.g. interactive visualizations using Plotly\n",
    "- **Simplified Example** | In real-life, more often than not, datasets are not so well-structured"
   ]
  },
  {
   "cell_type": "markdown",
   "metadata": {},
   "source": [
    "# 2. Merge Excel Files (Real Life Example)"
   ]
  },
  {
   "cell_type": "markdown",
   "metadata": {},
   "source": [
    "### Merge multiple Excel files, perform calculations & insert (Excel) charts [keep excel formatting & formulas]"
   ]
  },
  {
   "cell_type": "code",
   "execution_count": null,
   "metadata": {},
   "outputs": [],
   "source": [
    "from pathlib import Path\n",
    "import pandas as pd  # pip install pandas\n",
    "import xlwings as xw  # pip install xlwings"
   ]
  },
  {
   "cell_type": "code",
   "execution_count": null,
   "metadata": {},
   "outputs": [],
   "source": [
    "# Locate examples files\n",
    "INPUT_DIR = Path.cwd() / \"2-Merge-Excel-Files-Real-Life\" / \"INPUT\"\n",
    "OUTPUT_DIR = Path.cwd() / \"2-Merge-Excel-Files-Real-Life\""
   ]
  },
  {
   "cell_type": "code",
   "execution_count": null,
   "metadata": {},
   "outputs": [],
   "source": [
    "# Create an empty workbook. This wb will be our final output\n",
    "summary_wb = xw.Book()\n",
    "summary_sht = summary_wb.sheets[0]\n",
    "summary_sht.name = \"Summary\""
   ]
  },
  {
   "cell_type": "code",
   "execution_count": null,
   "metadata": {},
   "outputs": [],
   "source": [
    "# Iterate over each file in directory. Copy cell range & paste it into summary workbook (keep formatting & formuals)\n",
    "\n",
    "# If you want to iterate over all folders including subfolders, use: \n",
    "# for file in INPUT_DIR.rglob(\"*\"):\n",
    "\n",
    "for file in INPUT_DIR.iterdir():\n",
    "    if file.suffix == \".xlsx\":\n",
    "        wb = xw.Book(file)\n",
    "        wb.app.display_alerts = False\n",
    "        #wb.app.visible = False\n",
    "        sht = wb.sheets(\"Overview\")\n",
    "        values = sht.range(\"B5\").expand().copy()\n",
    "        dest_last_row = summary_sht.range(\"A1\").expand().last_cell.row + 1\n",
    "        summary_sht.range(f\"A{dest_last_row}\").paste()\n",
    "        wb.close()"
   ]
  },
  {
   "cell_type": "code",
   "execution_count": null,
   "metadata": {},
   "outputs": [],
   "source": [
    "# Insert & style header of our summary workbook\n",
    "header = [\n",
    "    \"Segment\",\n",
    "    \"Country\",\n",
    "    \"Product\",\n",
    "    \"Discount Band\",\n",
    "    \"Units Sold\",\n",
    "    \"Sale Price\",\n",
    "    \"Gross Sales\",\n",
    "    \"Discounts\",\n",
    "    \"Sales\",\n",
    "    \"COGS\",\n",
    "    \"Profit\",\n",
    "]\n",
    "header_row = summary_sht.range(\"A1:K1\")\n",
    "header_row.value = header\n",
    "header_row.font.bold = True\n",
    "header_row.font.color = (255, 255, 255)\n",
    "header_row.color = (119, 136, 153)"
   ]
  },
  {
   "cell_type": "code",
   "execution_count": null,
   "metadata": {},
   "outputs": [],
   "source": [
    "# Use pandas to perform calculations, e.g. data aggregation\n",
    "df = summary_sht.range(\"A1\").options(pd.DataFrame, expand=\"table\").value\n",
    "data_by_country = df.groupby(by=\"Country\").sum()[[\"Sales\"]]\n",
    "data_by_country"
   ]
  },
  {
   "cell_type": "code",
   "execution_count": null,
   "metadata": {},
   "outputs": [],
   "source": [
    "# Insert grouped dataframe into our summary workbook\n",
    "summary_sht.range(\"M1\").value = data_by_country"
   ]
  },
  {
   "cell_type": "code",
   "execution_count": null,
   "metadata": {},
   "outputs": [],
   "source": [
    "# Insert EXCEL chart\n",
    "chart = summary_sht.charts.add(\n",
    "    left=summary_sht.range(\"M8\").left, \n",
    "    top=summary_sht.range(\"M8\").top,\n",
    "    width=400,\n",
    "    height=200,\n",
    ")\n",
    "chart.set_source_data(summary_sht.range(\"M1\").expand())\n",
    "chart.chart_type = \"bar_stacked\""
   ]
  },
  {
   "cell_type": "code",
   "execution_count": null,
   "metadata": {},
   "outputs": [],
   "source": [
    "# Insert PANDAS chart\n",
    "ax = data_by_country.sort_values(by=\"Sales\").plot(kind=\"barh\")\n",
    "fig = ax.get_figure()\n",
    "summary_sht.pictures.add(\n",
    "    fig,\n",
    "    name=\"Sales\",\n",
    "    update=True,\n",
    "    left=summary_sht.range(\"M23\").left,\n",
    "    top=summary_sht.range(\"M23\").top,\n",
    "    width=400,\n",
    "    height=200,\n",
    ")"
   ]
  },
  {
   "cell_type": "code",
   "execution_count": null,
   "metadata": {
    "scrolled": true
   },
   "outputs": [],
   "source": [
    "# Clean up workbook, save workbook & quit Excel instance (if it is the only wb open)\n",
    "summary_sht.autofit()\n",
    "summary_wb.save(OUTPUT_DIR / \"summary.xlsx\")\n",
    "if len(summary_wb.app.books) == 1:\n",
    "    summary_wb.app.quit()\n",
    "else:\n",
    "    summary_wb.close()"
   ]
  }
 ],
 "metadata": {
  "kernelspec": {
   "display_name": "Python 3",
   "language": "python",
   "name": "python3"
  },
  "language_info": {
   "codemirror_mode": {
    "name": "ipython",
    "version": 3
   },
   "file_extension": ".py",
   "mimetype": "text/x-python",
   "name": "python",
   "nbconvert_exporter": "python",
   "pygments_lexer": "ipython3",
   "version": "3.8.8"
  }
 },
 "nbformat": 4,
 "nbformat_minor": 4
}
